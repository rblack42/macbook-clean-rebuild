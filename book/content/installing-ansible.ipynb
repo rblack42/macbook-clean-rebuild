{
 "cells": [
  {
   "cell_type": "markdown",
   "id": "b4eac178",
   "metadata": {},
   "source": [
    "# Installing Ansible"
   ]
  },
  {
   "cell_type": "markdown",
   "id": "581e2804",
   "metadata": {},
   "source": [
    "Rather than manually installing everything needed for my work, I use *Ansible*, a *Python* application that manages installation tasks using a set of configuration files that define what is needed on your system. *Ansible* asks you to define what your system should look like in those scripts, then sets out to make that happen."
   ]
  },
  {
   "cell_type": "markdown",
   "id": "620aeb41",
   "metadata": {},
   "source": [
    "Assuming your *Homebrew* installation is working, installing *Ansible * is simple:\n",
    "    \n",
    "```text\n",
    "brew install ansible\n",
    "```\n",
    "    \n",
    "This command will install both *Ansible* and any needed dependencies. *MacOS* comes with a version of *Python3*, but it is not the most current release. *Homebrew* will install the latest version as part of this process. The new version will not be available from the command line, but it is installed here:\n",
    "\n",
    "- /opt/homebrew/bin/python3 (on M1 systems)\n",
    "- /usr/local/bin/python3.10 (on Pentium systems)"
   ]
  },
  {
   "cell_type": "code",
   "execution_count": 3,
   "id": "28934959",
   "metadata": {},
   "outputs": [
    {
     "name": "stdout",
     "output_type": "stream",
     "text": [
      "Python 3.10.6\r\n"
     ]
    }
   ],
   "source": [
    "!/usr/local/bin/python3.10 --version"
   ]
  },
  {
   "cell_type": "markdown",
   "id": "fb0086ce",
   "metadata": {},
   "source": [
    "## Ansible Configuration for Local Installs"
   ]
  },
  {
   "cell_type": "markdown",
   "id": "fb2f5b78",
   "metadata": {},
   "source": [
    "*Ansible* was designed to manage installations on multiple remote servers. However it is quite usable for managing your local machine as well.  is a bit complicated for new users, but once you see the basic structure, it is not so bad to use. "
   ]
  },
  {
   "cell_type": "markdown",
   "id": "b8952583",
   "metadata": {},
   "source": [
    "Ler's start off by confirming that ansible can manage the local machine:"
   ]
  },
  {
   "cell_type": "code",
   "execution_count": 1,
   "id": "33e7e672",
   "metadata": {},
   "outputs": [
    {
     "name": "stdout",
     "output_type": "stream",
     "text": [
      "\u001b[1;35m[WARNING]: No inventory was parsed, only implicit localhost is available\u001b[0m\n",
      "\u001b[0;32mlocalhost | SUCCESS => {\u001b[0m\n",
      "\u001b[0;32m    \"changed\": false,\u001b[0m\n",
      "\u001b[0;32m    \"ping\": \"pong\"\u001b[0m\n",
      "\u001b[0;32m}\u001b[0m\n"
     ]
    }
   ],
   "source": [
    "!ansible -m ping localhost"
   ]
  },
  {
   "cell_type": "markdown",
   "id": "b4cf8fdf",
   "metadata": {},
   "source": [
    "This response confirms that *Ansible* is properly installed (along with its required dependencies) and can perform configuration tasks for us. \n",
    "\n",
    "What is that **inventory** thing that the previous command mentioned?"
   ]
  },
  {
   "cell_type": "markdown",
   "id": "14a4d959",
   "metadata": {},
   "source": [
    "## Localhost Inventory\n",
    "\n",
    "\n",
    "An **inventory** is a list of host machines that you want to manage. In the present case, we only want t manage the machine we are configuring, and we are sitting in front of that machine! However, *Ansible* can manage remote machines as well. For example, I have a Raspbery Pi machine running in my home network which has an *IP* address of 192.168.2.195. Let's see if we can reach that machine with a **ping** test:"
   ]
  },
  {
   "cell_type": "code",
   "execution_count": 2,
   "id": "3db89ed3",
   "metadata": {},
   "outputs": [
    {
     "name": "stdout",
     "output_type": "stream",
     "text": [
      "\u001b[1;35m[WARNING]: No inventory was parsed, only implicit localhost is available\u001b[0m\r\n",
      "\u001b[1;35m[WARNING]: provided hosts list is empty, only localhost is available. Note that\u001b[0m\r\n",
      "\u001b[1;35mthe implicit localhost does not match 'all'\u001b[0m\r\n",
      "\u001b[1;35m[WARNING]: Could not match supplied host pattern, ignoring: 192.168.2.195\u001b[0m\r\n"
     ]
    }
   ],
   "source": [
    "! ansible -m ping 192.168.2.195"
   ]
  },
  {
   "cell_type": "markdown",
   "id": "5ea8d333",
   "metadata": {},
   "source": [
    "Well, that did not work. We can fix this is we create a few configuration files for *Ansible*:\n",
    "\n",
    "**hosts**:\n",
    "\n",
    "```text\n",
    "[servers]\n",
    "localhost\n",
    "picam\n",
    "```\n",
    "\n",
    "**ansible.cfg**:\n",
    "\n",
    "```text\n",
    "[defaults]\n",
    "inventory=hosts\n",
    "```\n",
    "\n",
    "I have placed these files in an **assets/ansible** folder with the notes for this project:"
   ]
  },
  {
   "cell_type": "code",
   "execution_count": 3,
   "id": "ec3df4ae",
   "metadata": {},
   "outputs": [
    {
     "name": "stdout",
     "output_type": "stream",
     "text": [
      "/Users/rblack/_dev/macbook-rebuild/book/assets/ansible\n",
      "ansible.cfg hosts\r\n"
     ]
    }
   ],
   "source": [
    "%cd ../assets/ansible\n",
    "!ls"
   ]
  },
  {
   "cell_type": "code",
   "execution_count": 5,
   "id": "99f675ed",
   "metadata": {},
   "outputs": [
    {
     "name": "stdout",
     "output_type": "stream",
     "text": [
      "[Errno 2] No such file or directory: '../assets/ansible'\n",
      "/Users/rblack/_dev/macbook-rebuild/book/assets/ansible\n",
      "\u001b[1;35m[WARNING]: No inventory was parsed, only implicit localhost is available\u001b[0m\n",
      "\u001b[1;35m[WARNING]: provided hosts list is empty, only localhost is available. Note that\u001b[0m\n",
      "\u001b[1;35mthe implicit localhost does not match 'all'\u001b[0m\n",
      "\u001b[1;35m[WARNING]: Could not match supplied host pattern, ignoring: servers\u001b[0m\n"
     ]
    }
   ],
   "source": [
    "%cd ../assets/ansible\n",
    "!ansible -m ping servers"
   ]
  },
  {
   "cell_type": "code",
   "execution_count": null,
   "id": "7b371323",
   "metadata": {},
   "outputs": [],
   "source": []
  }
 ],
 "metadata": {
  "kernelspec": {
   "display_name": "Python 3 (ipykernel)",
   "language": "python",
   "name": "python3"
  },
  "language_info": {
   "codemirror_mode": {
    "name": "ipython",
    "version": 3
   },
   "file_extension": ".py",
   "mimetype": "text/x-python",
   "name": "python",
   "nbconvert_exporter": "python",
   "pygments_lexer": "ipython3",
   "version": "3.10.6"
  },
  "toc": {
   "base_numbering": 1,
   "nav_menu": {},
   "number_sections": true,
   "sideBar": true,
   "skip_h1_title": false,
   "title_cell": "Table of Contents",
   "title_sidebar": "Contents",
   "toc_cell": false,
   "toc_position": {},
   "toc_section_display": true,
   "toc_window_display": false
  },
  "varInspector": {
   "cols": {
    "lenName": 16,
    "lenType": 16,
    "lenVar": 40
   },
   "kernels_config": {
    "python": {
     "delete_cmd_postfix": "",
     "delete_cmd_prefix": "del ",
     "library": "var_list.py",
     "varRefreshCmd": "print(var_dic_list())"
    },
    "r": {
     "delete_cmd_postfix": ") ",
     "delete_cmd_prefix": "rm(",
     "library": "var_list.r",
     "varRefreshCmd": "cat(var_dic_list()) "
    }
   },
   "types_to_exclude": [
    "module",
    "function",
    "builtin_function_or_method",
    "instance",
    "_Feature"
   ],
   "window_display": false
  }
 },
 "nbformat": 4,
 "nbformat_minor": 5
}
