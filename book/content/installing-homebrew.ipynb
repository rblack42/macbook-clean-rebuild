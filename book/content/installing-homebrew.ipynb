{
 "cells": [
  {
   "cell_type": "markdown",
   "id": "42db9eb4",
   "metadata": {},
   "source": [
    "# Instaling Homebrew"
   ]
  },
  {
   "cell_type": "markdown",
   "id": "7c0e51fb",
   "metadata": {},
   "source": [
    "I use Homebrew to manage installation of most of the tools I use for code development and teaching. *Homebrew* is simple to install on any Mac system. To get started, run this command from the command prompt:"
   ]
  },
  {
   "cell_type": "markdown",
   "id": "432ef653",
   "metadata": {},
   "source": [
    "```{bash}\n",
    "/bin/bash -c \"$(curl -fsSL https://raw.githubusercontent.com/Homebrew/install/HEAD/install.sh)\"\n",
    "```"
   ]
  },
  {
   "cell_type": "markdown",
   "id": "3effc12b",
   "metadata": {},
   "source": [
    "On older Mac systems this command will set up system **PATH** entries that will provide simple access to the tools installed using *Homebrew*.\n",
    "\n",
    "You can verify that *Homebrew* installed properly by running this command:"
   ]
  },
  {
   "cell_type": "code",
   "execution_count": 1,
   "id": "fdb0187f",
   "metadata": {},
   "outputs": [
    {
     "name": "stdout",
     "output_type": "stream",
     "text": [
      "Homebrew 3.6.2\n",
      "Homebrew/homebrew-core (git revision e920f975f03; last commit 2022-09-22)\n",
      "Homebrew/homebrew-cask (git revision 3027596277; last commit 2022-09-23)\n"
     ]
    }
   ],
   "source": [
    "!brew --version"
   ]
  },
  {
   "cell_type": "markdown",
   "id": "64f940b6",
   "metadata": {},
   "source": [
    "```{note}\n",
    "The output shown was generated on an older Macbook. I used that system to generate these notes while building a new Macbook Pro 16\" system. At the time of this writing, the current version is 3.9.6.\n",
    "```"
   ]
  }
 ],
 "metadata": {
  "kernelspec": {
   "display_name": "Python 3 (ipykernel)",
   "language": "python",
   "name": "python3"
  },
  "language_info": {
   "codemirror_mode": {
    "name": "ipython",
    "version": 3
   },
   "file_extension": ".py",
   "mimetype": "text/x-python",
   "name": "python",
   "nbconvert_exporter": "python",
   "pygments_lexer": "ipython3",
   "version": "3.10.6"
  },
  "toc": {
   "base_numbering": 1,
   "nav_menu": {},
   "number_sections": true,
   "sideBar": true,
   "skip_h1_title": false,
   "title_cell": "Table of Contents",
   "title_sidebar": "Contents",
   "toc_cell": false,
   "toc_position": {},
   "toc_section_display": true,
   "toc_window_display": false
  },
  "varInspector": {
   "cols": {
    "lenName": 16,
    "lenType": 16,
    "lenVar": 40
   },
   "kernels_config": {
    "python": {
     "delete_cmd_postfix": "",
     "delete_cmd_prefix": "del ",
     "library": "var_list.py",
     "varRefreshCmd": "print(var_dic_list())"
    },
    "r": {
     "delete_cmd_postfix": ") ",
     "delete_cmd_prefix": "rm(",
     "library": "var_list.r",
     "varRefreshCmd": "cat(var_dic_list()) "
    }
   },
   "types_to_exclude": [
    "module",
    "function",
    "builtin_function_or_method",
    "instance",
    "_Feature"
   ],
   "window_display": false
  }
 },
 "nbformat": 4,
 "nbformat_minor": 5
}
